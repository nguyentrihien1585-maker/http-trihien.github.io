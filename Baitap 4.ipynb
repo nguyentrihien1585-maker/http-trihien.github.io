{
  "nbformat": 4,
  "nbformat_minor": 0,
  "metadata": {
    "colab": {
      "provenance": [],
      "authorship_tag": "ABX9TyNFYqxG1xpEYsSfafBkiPVT",
      "include_colab_link": true
    },
    "kernelspec": {
      "name": "python3",
      "display_name": "Python 3"
    },
    "language_info": {
      "name": "python"
    }
  },
  "cells": [
    {
      "cell_type": "markdown",
      "metadata": {
        "id": "view-in-github",
        "colab_type": "text"
      },
      "source": [
        "<a href=\"https://colab.research.google.com/github/nguyentrihien1585-maker/http-trihien.github.io/blob/main/Baitap%204.ipynb\" target=\"_parent\"><img src=\"https://colab.research.google.com/assets/colab-badge.svg\" alt=\"Open In Colab\"/></a>"
      ]
    },
    {
      "cell_type": "markdown",
      "source": [
        "## Bài 1"
      ],
      "metadata": {
        "id": "3Qjks8OilS1t"
      }
    },
    {
      "cell_type": "code",
      "source": [
        "print('**************************' )\n",
        "print('* Truong: Dai Hoc UEH *')\n",
        "print('* Khoa: CNTT *')\n",
        "print('* Ho ten: *')\n",
        "print('************************** ')"
      ],
      "metadata": {
        "colab": {
          "base_uri": "https://localhost:8080/"
        },
        "id": "mU4v6F6FlymR",
        "outputId": "1e486a70-2194-4089-c3c3-ed4bed62c285"
      },
      "execution_count": 8,
      "outputs": [
        {
          "output_type": "stream",
          "name": "stdout",
          "text": [
            "**************************\n",
            "* Truong: Dai Hoc UEH *\n",
            "* Khoa: CNTT *\n",
            "* Ho ten: *\n",
            "************************** \n"
          ]
        }
      ]
    },
    {
      "cell_type": "markdown",
      "source": [
        "## Bài 2"
      ],
      "metadata": {
        "id": "gBSIkPvLmaUc"
      }
    },
    {
      "cell_type": "code",
      "source": [
        "# Nhập dữ liệu\n",
        "R = int(input(\"Nhap ban kinh R: \"))\n",
        "# Xử lý\n",
        "kqDientich = 3.14 * R * R\n",
        "kqChuvi = 2 * 3.14 * R\n",
        "\n",
        "# Xuất dữ liệu\n",
        "print('Dien tich hinh tron la: ', round(kqDientich,1))\n",
        "print('Chu vi hinh tron la: ', round(kqChuvi))"
      ],
      "metadata": {
        "colab": {
          "base_uri": "https://localhost:8080/"
        },
        "id": "hyPbo4c6mc2y",
        "outputId": "a05f1e32-a227-4520-e644-0a999f34548e"
      },
      "execution_count": 11,
      "outputs": [
        {
          "output_type": "stream",
          "name": "stdout",
          "text": [
            "Nhap ban kinh R: 5\n",
            "Dien tich hinh tron la:  78.5\n",
            "Chu vi hinh tron la:  31\n"
          ]
        }
      ]
    },
    {
      "cell_type": "markdown",
      "source": [
        "## Bài 3"
      ],
      "metadata": {
        "id": "8VHn9qHypaK8"
      }
    },
    {
      "cell_type": "code",
      "source": [
        "# Nhap du lieu\n",
        "h = int(input('Nhap so gio:'))\n",
        "m = int(input('Nhap so phut:'))\n",
        "s = int(input('Nhap so giay:'))\n",
        "\n",
        "# Xử lí\n",
        "s = h * 3600 + m * 60 + s\n",
        "\n",
        "# Kết quả\n",
        "print('Tong so giay la: ', s)\n"
      ],
      "metadata": {
        "colab": {
          "base_uri": "https://localhost:8080/"
        },
        "id": "Zy4MzVWUpcq2",
        "outputId": "b11ea91c-4aec-4bc2-8788-0bb3eab802d5"
      },
      "execution_count": 12,
      "outputs": [
        {
          "output_type": "stream",
          "name": "stdout",
          "text": [
            "Nhap so gio:5\n",
            "Nhap so phut:3\n",
            "Nhap so giay:2\n",
            "Tong so giay la:  18182\n"
          ]
        }
      ]
    }
  ]
}