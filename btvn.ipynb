{
  "nbformat": 4,
  "nbformat_minor": 0,
  "metadata": {
    "colab": {
      "provenance": [],
      "authorship_tag": "ABX9TyP8jZgEvuJpkuiB7+EPfbTc",
      "include_colab_link": true
    },
    "kernelspec": {
      "name": "python3",
      "display_name": "Python 3"
    },
    "language_info": {
      "name": "python"
    }
  },
  "cells": [
    {
      "cell_type": "markdown",
      "metadata": {
        "id": "view-in-github",
        "colab_type": "text"
      },
      "source": [
        "<a href=\"https://colab.research.google.com/github/nguyentrihien1585-maker/http-trihien.github.io/blob/Homework/btvn.ipynb\" target=\"_parent\"><img src=\"https://colab.research.google.com/assets/colab-badge.svg\" alt=\"Open In Colab\"/></a>"
      ]
    },
    {
      "cell_type": "markdown",
      "source": [
        "## Bài 1"
      ],
      "metadata": {
        "id": "3Qjks8OilS1t"
      }
    },
    {
      "cell_type": "code",
      "source": [
        "print('**************************' )\n",
        "print('* Truong: Dai Hoc UEH *')\n",
        "print('* Khoa: CNTT *')\n",
        "print('* Ho ten: *')\n",
        "print('************************** ')"
      ],
      "metadata": {
        "colab": {
          "base_uri": "https://localhost:8080/"
        },
        "id": "mU4v6F6FlymR",
        "outputId": "1e486a70-2194-4089-c3c3-ed4bed62c285"
      },
      "execution_count": 8,
      "outputs": [
        {
          "output_type": "stream",
          "name": "stdout",
          "text": [
            "**************************\n",
            "* Truong: Dai Hoc UEH *\n",
            "* Khoa: CNTT *\n",
            "* Ho ten: *\n",
            "************************** \n"
          ]
        }
      ]
    },
    {
      "cell_type": "markdown",
      "source": [
        "## Bài 2"
      ],
      "metadata": {
        "id": "gBSIkPvLmaUc"
      }
    },
    {
      "cell_type": "code",
      "source": [
        "# Nhập dữ liệu\n",
        "R = int(input(\"Nhap ban kinh R: \"))\n",
        "# Xử lý\n",
        "kqDientich = 3.14 * R * R\n",
        "kqChuvi = 2 * 3.14 * R\n",
        "\n",
        "# Xuất dữ liệu\n",
        "print('Dien tich hinh tron la: ', round(kqDientich,1))\n",
        "print('Chu vi hinh tron la: ', round(kqChuvi))"
      ],
      "metadata": {
        "colab": {
          "base_uri": "https://localhost:8080/"
        },
        "id": "hyPbo4c6mc2y",
        "outputId": "a05f1e32-a227-4520-e644-0a999f34548e"
      },
      "execution_count": 11,
      "outputs": [
        {
          "output_type": "stream",
          "name": "stdout",
          "text": [
            "Nhap ban kinh R: 5\n",
            "Dien tich hinh tron la:  78.5\n",
            "Chu vi hinh tron la:  31\n"
          ]
        }
      ]
    },
    {
      "cell_type": "markdown",
      "source": [
        "## Bài 3"
      ],
      "metadata": {
        "id": "8VHn9qHypaK8"
      }
    },
    {
      "cell_type": "code",
      "source": [
        "# Nhap du lieu\n",
        "h = int(input('Nhap so gio:'))\n",
        "m = int(input('Nhap so phut:'))\n",
        "s = int(input('Nhap so giay:'))\n",
        "\n",
        "# Xử lí\n",
        "s = h * 3600 + m * 60 + s\n",
        "\n",
        "# Kết quả\n",
        "print('Tong so giay la: ', s)\n"
      ],
      "metadata": {
        "colab": {
          "base_uri": "https://localhost:8080/"
        },
        "id": "Zy4MzVWUpcq2",
        "outputId": "b11ea91c-4aec-4bc2-8788-0bb3eab802d5"
      },
      "execution_count": 12,
      "outputs": [
        {
          "output_type": "stream",
          "name": "stdout",
          "text": [
            "Nhap so gio:5\n",
            "Nhap so phut:3\n",
            "Nhap so giay:2\n",
            "Tong so giay la:  18182\n"
          ]
        }
      ]
    },
    {
      "cell_type": "markdown",
      "source": [
        "## Bài 4"
      ],
      "metadata": {
        "id": "D3i6QOFBqz42"
      }
    },
    {
      "cell_type": "code",
      "source": [
        "ts =  int(input('Nhap tong so giay:'))\n",
        "h = ts // 3600\n",
        "m = (ts % 3600) // 60\n",
        "s = ts % 60\n",
        "\n",
        "# Xuất kết quả\n",
        "print('So gio: ', h)\n",
        "print('So phut: ', m)\n",
        "print('So giay: ', s)\n",
        "\n",
        "\n"
      ],
      "metadata": {
        "colab": {
          "base_uri": "https://localhost:8080/"
        },
        "id": "2xcjxxCjq4cd",
        "outputId": "0e80709a-4531-4576-9d3e-880b93aaa941"
      },
      "execution_count": 22,
      "outputs": [
        {
          "output_type": "stream",
          "name": "stdout",
          "text": [
            "Nhap tong so giay:4810\n",
            "So gio:  1\n",
            "So phut:  20\n",
            "So giay:  10\n"
          ]
        }
      ]
    },
    {
      "cell_type": "markdown",
      "source": [
        "## Bài 5"
      ],
      "metadata": {
        "id": "VhLzYxs1taBI"
      }
    },
    {
      "cell_type": "code",
      "source": [
        "a = int(input('Nhap so a:'))\n",
        "b = int(input('Nhap so b:'))\n",
        "c = int(input('Nhap so c:'))\n",
        "\n",
        "p=(a+b+c)/2\n",
        "s=(p*(p-a)*(p-b)*(p-c))**0.5\n",
        "\n",
        "print('Dien tich tam giac la: ', s)\n"
      ],
      "metadata": {
        "colab": {
          "base_uri": "https://localhost:8080/"
        },
        "id": "_nW8GPfAtbxn",
        "outputId": "4037d665-5ce4-4852-f87b-ba80d4b2808f"
      },
      "execution_count": 23,
      "outputs": [
        {
          "output_type": "stream",
          "name": "stdout",
          "text": [
            "Nhap so a:5\n",
            "Nhap so b:4\n",
            "Nhap so c:4\n",
            "Dien tich tam giac la:  7.806247497997997\n"
          ]
        }
      ]
    },
    {
      "cell_type": "markdown",
      "source": [
        "## Bai 6"
      ],
      "metadata": {
        "id": "O_uoSmCtvkuR"
      }
    },
    {
      "cell_type": "code",
      "source": [
        "a = int(input(' Nhap so thuc a:'))\n",
        "n = int(input(' Nhap so mu n:'))\n",
        "\n",
        "m = a ** n\n",
        "print('ket qua la:', m)"
      ],
      "metadata": {
        "colab": {
          "base_uri": "https://localhost:8080/"
        },
        "id": "8QdqCpvlvnz5",
        "outputId": "43a3a5e7-0a8f-4e0a-8df7-e95dab464331"
      },
      "execution_count": 25,
      "outputs": [
        {
          "output_type": "stream",
          "name": "stdout",
          "text": [
            " Nhap so thuc a:2\n",
            " Nhap so mu n:4\n",
            "ket qua la: 16\n"
          ]
        }
      ]
    },
    {
      "cell_type": "markdown",
      "source": [
        "## Bài 7"
      ],
      "metadata": {
        "id": "Q90zuA75xCkU"
      }
    },
    {
      "cell_type": "code",
      "source": [
        "x = int(input(\"Nhập số nguyên có 4 chữ số: \"))\n",
        "\n",
        "y = int(str(x)[::-1])   # Đổi số thành chuỗi rồi đảo ngược\n",
        "\n",
        "print(f\"Số đảo của {x} là {y}\")\n"
      ],
      "metadata": {
        "colab": {
          "base_uri": "https://localhost:8080/"
        },
        "id": "bOS-b-5VxFug",
        "outputId": "d3df3a12-2895-4656-bebb-624000e988d9"
      },
      "execution_count": 26,
      "outputs": [
        {
          "output_type": "stream",
          "name": "stdout",
          "text": [
            "Nhập số nguyên có 4 chữ số: 1234\n",
            "Số đảo của 1234 là 4321\n"
          ]
        }
      ]
    }
  ]
}